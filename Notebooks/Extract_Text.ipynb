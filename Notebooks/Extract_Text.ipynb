{
 "cells": [
  {
   "cell_type": "code",
   "execution_count": 1,
   "metadata": {},
   "outputs": [],
   "source": [
    "import pdfplumber"
   ]
  },
  {
   "cell_type": "code",
   "execution_count": 2,
   "metadata": {},
   "outputs": [],
   "source": [
    "jd_path = r\"Data/Sample-JD.pdf\"\n",
    "resume_path = r\"Data/Sample-Resume.pdf\""
   ]
  },
  {
   "cell_type": "code",
   "execution_count": 3,
   "metadata": {},
   "outputs": [],
   "source": [
    "load_jd = pdfplumber.open(jd_path)\n",
    "load_resume = pdfplumber.open(resume_path)"
   ]
  },
  {
   "cell_type": "code",
   "execution_count": 4,
   "metadata": {},
   "outputs": [
    {
     "data": {
      "text/plain": [
       "[<Page:1>]"
      ]
     },
     "execution_count": 4,
     "metadata": {},
     "output_type": "execute_result"
    }
   ],
   "source": [
    "load_jd.pages"
   ]
  },
  {
   "cell_type": "code",
   "execution_count": 5,
   "metadata": {},
   "outputs": [
    {
     "data": {
      "text/plain": [
       "[<Page:1>, <Page:2>]"
      ]
     },
     "execution_count": 5,
     "metadata": {},
     "output_type": "execute_result"
    }
   ],
   "source": [
    "load_resume.pages"
   ]
  },
  {
   "cell_type": "code",
   "execution_count": 6,
   "metadata": {},
   "outputs": [
    {
     "name": "stdout",
     "output_type": "stream",
     "text": [
      "Sample Job Description\n",
      "Job Title: Human Resources Assistant\n",
      "Job Description: This position reports to the Human Resources (HR) director and\n",
      "interfaces with company managers and HR staff. Company XYZ is\n",
      "committed to an employee-orientated, high performance culture that\n",
      "emphasizes empowerment, quality, continuous improvement, and the\n",
      "recruitment and ongoing development of a superior workforce.\n",
      "The intern will gain exposure\n",
      "to these functional areas: HR Information Systems; Employee relations; Training and development;\n",
      "Benefits; Compensation; Organization development; Employment\n",
      "Specific responsibilities: - Employee orientation and training logistics and recordkeeping\n",
      "- Company-wide committee facilitation and participation\n",
      "- Employee safety, welfare, wellness and health reporting\n",
      "- Provide direct support to employees during implementation of HR\n",
      "services, policies and programs\n",
      "What skills will the\n",
      "intern learn: - Active participation in strategic planning process, including\n",
      "developing goals, objectives and processes\n",
      "- How to engage professionally in HR meetings and seminars with\n",
      "other HR professionals in the region\n",
      "- Gain experience with Human Resources Information system (HRIS)\n",
      "database management and record keeping\n",
      "- Application of HR law and compliance with governmental regulations\n",
      "Qualifications: - Proficient with Microsoft Word and Excel\n",
      "- General knowledge of employment law and practices\n",
      "- Able to maintain a high level of confidentiality\n",
      "- Effective oral and written management communication skills\n"
     ]
    }
   ],
   "source": [
    "jd_pages = load_jd.pages\n",
    "for page in jd_pages:\n",
    "    text = page.extract_text()\n",
    "print(text)"
   ]
  },
  {
   "cell_type": "code",
   "execution_count": 7,
   "metadata": {},
   "outputs": [
    {
     "name": "stdout",
     "output_type": "stream",
     "text": [
      "9868949825 Sanjay Kumar\n",
      "DATE OF BIRTH 1 Delhi Air Sqn. (Flg.) (Safdarjung Airport, New Delhi)\n",
      "LOWER DIVISIONAL CLERK June 14 – March 15\n",
      "July 14, 1986\n",
      "Job Responsibilities:\n",
      "¤ Letter drafting & Letter reply.\n",
      "GENDER ¤ Filling & maintaining database of Admin Dept.\n",
      "¤ Salary preparation on NIC software for employees.\n",
      "Male ¤ Timely submission of telephone and electricity bills.\n",
      "¤ Budgeting for students camps.\n",
      "¤ Applying budget for office expenses and maintaining the same.\n",
      "MARITAL STATUS\n",
      "¤ Maintaining In and Out letters record\n",
      "Unmarried ¤ Maintaining office stationary, postage stamps & office expense\n",
      "¤ Preparation medical bills of employees for reimbursement.\n",
      "LANGUAGES\n",
      "Prakash Switchgear (Ghonda, Delhi)\n",
      "Hindi STORE IN-CHARGE July 13 – Dec. 13\n",
      "English\n",
      "Met Life India Insurance Co. Limited (Noida Sector-18, U.P.)\n",
      "FINANCIAL ADVISOR April 12 – June 13\n",
      "HOBBIES\n",
      "INTERNSHIP\n",
      "Reading Birla Sun Life Insurance Co. Limited (Hargovind Enclave, Delhi)\n",
      "FINANCIAL ADVISOR June 09 – July 09\n",
      "Listening Music\n",
      "Poetry\n",
      "PROFESSIONAL QUALIFICATIONS\n",
      "MBA- Human Resource (S.M. University, Delhi) 2010 – 2012 1st Div.\n",
      "BBA (G.G.S.I.P. University, Delhi) 2006 – 2009 1st Div.\n",
      "NATIONALITY\n",
      "Indian ACADEMIC QUALIFICATIONS\n",
      "XII (Science Stream) (CBSE, Delhi) 2006 52%\n",
      "X (General) (CBSE, Delhi) 2003 65%\n",
      "REFERENCES – Available on request.\n",
      "Date: XX- XX- 2019 (Sanjay Kumar)\n",
      "2\n"
     ]
    }
   ],
   "source": [
    "resume_pages = load_resume.pages\n",
    "for page in resume_pages:\n",
    "    text = page.extract_text()\n",
    "print(text)"
   ]
  }
 ],
 "metadata": {
  "kernelspec": {
   "display_name": "venv",
   "language": "python",
   "name": "python3"
  },
  "language_info": {
   "codemirror_mode": {
    "name": "ipython",
    "version": 3
   },
   "file_extension": ".py",
   "mimetype": "text/x-python",
   "name": "python",
   "nbconvert_exporter": "python",
   "pygments_lexer": "ipython3",
   "version": "3.12.5"
  }
 },
 "nbformat": 4,
 "nbformat_minor": 2
}
