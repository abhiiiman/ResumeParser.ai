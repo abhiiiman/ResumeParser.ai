{
 "cells": [
  {
   "cell_type": "code",
   "execution_count": 7,
   "metadata": {},
   "outputs": [],
   "source": [
    "from langchain_groq import ChatGroq\n",
    "import pdfplumber\n",
    "from langchain_core.prompts import PromptTemplate"
   ]
  },
  {
   "cell_type": "code",
   "execution_count": 3,
   "metadata": {},
   "outputs": [],
   "source": [
    "llm=ChatGroq(temperature=1,\n",
    "             model_name=\"llama3-70b-8192\",\n",
    "             api_key='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',\n",
    "             model_kwargs={\"response_format\": {\"type\": \"json_object\"}})"
   ]
  },
  {
   "cell_type": "code",
   "execution_count": 5,
   "metadata": {},
   "outputs": [],
   "source": [
    "resume_path = r\"Sample-Resume.pdf\"\n",
    "load_resume = pdfplumber.open(resume_path)"
   ]
  },
  {
   "cell_type": "code",
   "execution_count": 6,
   "metadata": {},
   "outputs": [
    {
     "name": "stdout",
     "output_type": "stream",
     "text": [
      "9868949825 Sanjay Kumar\n",
      "DATE OF BIRTH 1 Delhi Air Sqn. (Flg.) (Safdarjung Airport, New Delhi)\n",
      "LOWER DIVISIONAL CLERK June 14 – March 15\n",
      "July 14, 1986\n",
      "Job Responsibilities:\n",
      "¤ Letter drafting & Letter reply.\n",
      "GENDER ¤ Filling & maintaining database of Admin Dept.\n",
      "¤ Salary preparation on NIC software for employees.\n",
      "Male ¤ Timely submission of telephone and electricity bills.\n",
      "¤ Budgeting for students camps.\n",
      "¤ Applying budget for office expenses and maintaining the same.\n",
      "MARITAL STATUS\n",
      "¤ Maintaining In and Out letters record\n",
      "Unmarried ¤ Maintaining office stationary, postage stamps & office expense\n",
      "¤ Preparation medical bills of employees for reimbursement.\n",
      "LANGUAGES\n",
      "Prakash Switchgear (Ghonda, Delhi)\n",
      "Hindi STORE IN-CHARGE July 13 – Dec. 13\n",
      "English\n",
      "Met Life India Insurance Co. Limited (Noida Sector-18, U.P.)\n",
      "FINANCIAL ADVISOR April 12 – June 13\n",
      "HOBBIES\n",
      "INTERNSHIP\n",
      "Reading Birla Sun Life Insurance Co. Limited (Hargovind Enclave, Delhi)\n",
      "FINANCIAL ADVISOR June 09 – July 09\n",
      "Listening Music\n",
      "Poetry\n",
      "PROFESSIONAL QUALIFICATIONS\n",
      "MBA- Human Resource (S.M. University, Delhi) 2010 – 2012 1st Div.\n",
      "BBA (G.G.S.I.P. University, Delhi) 2006 – 2009 1st Div.\n",
      "NATIONALITY\n",
      "Indian ACADEMIC QUALIFICATIONS\n",
      "XII (Science Stream) (CBSE, Delhi) 2006 52%\n",
      "X (General) (CBSE, Delhi) 2003 65%\n",
      "REFERENCES – Available on request.\n",
      "Date: XX- XX- 2019 (Sanjay Kumar)\n",
      "2\n"
     ]
    }
   ],
   "source": [
    "resume_pages = load_resume.pages\n",
    "for page in resume_pages:\n",
    "    resume_text = page.extract_text()\n",
    "print(resume_text)"
   ]
  },
  {
   "cell_type": "markdown",
   "metadata": {},
   "source": [
    "Extract the details in JSON from the text"
   ]
  },
  {
   "cell_type": "code",
   "execution_count": 8,
   "metadata": {},
   "outputs": [],
   "source": [
    "format_instruction = \"\"\"\n",
    "{\n",
    "  \"name\": \"Candidate's full name\",\n",
    "  \"email\": \"Candidate's email address\",\n",
    "  \"phone_number\": \"Candidate's phone number\",\n",
    "  \"location\": {\n",
    "    \"address\": \"Candidate's full address\",\n",
    "    \"city\": \"Candidate's city\",\n",
    "    \"postal_code\": \"Postal code\",\n",
    "    \"country\": \"Candidate's country\"\n",
    "  },\n",
    "  \"career_objective\": \"Candidate's career objective or summary\",\n",
    "  \"total_experience\": \"Total years of work experience\",\n",
    "  \"relevant_experience\": \"Years of relevant experience\",\n",
    "  \"current_job_title\": \"Candidate's current job title\",\n",
    "  \"current_company\": \"Candidate's current company\",\n",
    "  \"previous_job_titles\": [\n",
    "    \"List of previous job titles\"\n",
    "  ],\n",
    "  \"previous_companies\": [\n",
    "    \"List of previous companies\"\n",
    "  ],\n",
    "  \"skills\": {\n",
    "    \"technical_skills\": [\n",
    "      \"List of technical skills\"\n",
    "    ],\n",
    "    \"soft_skills\": [\n",
    "      \"List of soft skills\"\n",
    "    ]\n",
    "  },\n",
    "  \"education\": [\n",
    "    {\n",
    "      \"degree\": \"Degree obtained\",\n",
    "      \"institution\": \"Institution name\",\n",
    "      \"year_of_passing\": \"Year of passing\",\n",
    "      \"division\": \"Division/Grade\"\n",
    "    }\n",
    "  ],\n",
    "  \"languages\": [\n",
    "    \"List of languages\"\n",
    "  ],\n",
    "  \"hobbies\": [\n",
    "    \"List of hobbies\"\n",
    "  ],\n",
    "  \"date_of_birth\": \"Candidate's date of birth\",\n",
    "  \"marital_status\": \"Candidate's marital status\",\n",
    "  \"nationality\": \"Candidate's nationality\",\n",
    "  \"references\": \"Availability of references\"\n",
    "}\n",
    "\"\"\""
   ]
  },
  {
   "cell_type": "code",
   "execution_count": 21,
   "metadata": {},
   "outputs": [],
   "source": [
    "prompt_template = \"\"\"\n",
    "Extract the following details from the resume text below and return in JSON format:\n",
    "{format_instruction}\n",
    "Resume Text:\n",
    "{resume_text}\n",
    "\"\"\""
   ]
  },
  {
   "cell_type": "code",
   "execution_count": 17,
   "metadata": {},
   "outputs": [],
   "source": [
    "prompt_template = \"\"\"\n",
    "You are tasked with extracting data from resume and returning a JSON structre.\n",
    "{format_instruction}\n",
    "Resume Text:\n",
    "{resume_text}\n",
    "\"\"\""
   ]
  },
  {
   "cell_type": "code",
   "execution_count": 18,
   "metadata": {},
   "outputs": [],
   "source": [
    "prompt = PromptTemplate(\n",
    "    template=prompt_template,\n",
    "    input_variables=[\"format_instruction\", \"resume_text\"],\n",
    ")"
   ]
  },
  {
   "cell_type": "code",
   "execution_count": 19,
   "metadata": {},
   "outputs": [],
   "source": [
    "llm_resume_parser = prompt | llm"
   ]
  },
  {
   "cell_type": "markdown",
   "metadata": {},
   "source": [
    "Generating the responses here"
   ]
  },
  {
   "cell_type": "code",
   "execution_count": 20,
   "metadata": {},
   "outputs": [],
   "source": [
    "parsed_candidate_data = llm_resume_parser.invoke({\"format_instruction\": format_instruction, \"resume_text\":resume_text})"
   ]
  },
  {
   "cell_type": "code",
   "execution_count": 21,
   "metadata": {},
   "outputs": [
    {
     "name": "stdout",
     "output_type": "stream",
     "text": [
      "{\n",
      "  \"name\": \"Sanjay Kumar\",\n",
      "  \"email\": null,\n",
      "  \"phone_number\": \"9868949825\",\n",
      "  \"location\": {\n",
      "    \"address\": \"Delhi Air Sqn. (Flg.) (Safdarjung Airport, New Delhi)\",\n",
      "    \"city\": \"Delhi\",\n",
      "    \"postal_code\": null,\n",
      "    \"country\": \"India\"\n",
      "  },\n",
      "  \"career_objective\": null,\n",
      "  \"total_experience\": null,\n",
      "  \"relevant_experience\": null,\n",
      "  \"current_job_title\": null,\n",
      "  \"current_company\": null,\n",
      "  \"previous_job_titles\": [\"LOWER DIVISIONAL CLERK\", \"STORE IN-CHARGE\", \"FINANCIAL ADVISOR\"],\n",
      "  \"previous_companies\": [\"Delhi Air Sqn. (Flg.) (Safdarjung Airport, New Delhi)\", \"Prakash Switchgear (Ghonda, Delhi)\", \"Met Life India Insurance Co. Limited (Noida Sector-18, U.P.)\", \"Birla Sun Life Insurance Co. Limited (Hargovind Enclave, Delhi)\"],\n",
      "  \"skills\": {\n",
      "    \"technical_skills\": [null],\n",
      "    \"soft_skills\": [null]\n",
      "  },\n",
      "  \"education\": [\n",
      "    {\n",
      "      \"degree\": \"MBA- Human Resource\",\n",
      "      \"institution\": \"S.M. University, Delhi\",\n",
      "      \"year_of_passing\": \"2010 - 2012\",\n",
      "      \"division\": \"1st Div.\"\n",
      "    },\n",
      "    {\n",
      "      \"degree\": \"BBA\",\n",
      "      \"institution\": \"G.G.S.I.P. University, Delhi\",\n",
      "      \"year_of_passing\": \"2006 - 2009\",\n",
      "      \"division\": \"1st Div.\"\n",
      "    },\n",
      "    {\n",
      "      \"degree\": \"XII (Science Stream)\",\n",
      "      \"institution\": \"CBSE, Delhi\",\n",
      "      \"year_of_passing\": \"2006\",\n",
      "      \"division\": \"52%\"\n",
      "    },\n",
      "    {\n",
      "      \"degree\": \"X (General)\",\n",
      "      \"institution\": \"CBSE, Delhi\",\n",
      "      \"year_of_passing\": \"2003\",\n",
      "      \"division\": \"65%\"\n",
      "    }\n",
      "  ],\n",
      "  \"languages\": [\"Hindi\", \"English\"],\n",
      "  \"hobbies\": [\"Reading\", \"Listening Music\", \"Poetry\"],\n",
      "  \"date_of_birth\": \"July 14, 1986\",\n",
      "  \"marital_status\": \"Unmarried\",\n",
      "  \"nationality\": \"Indian\",\n",
      "  \"references\": \"Available on request\"\n",
      "}\n"
     ]
    }
   ],
   "source": [
    "print(parsed_candidate_data.content)"
   ]
  }
 ],
 "metadata": {
  "kernelspec": {
   "display_name": "venv",
   "language": "python",
   "name": "python3"
  },
  "language_info": {
   "codemirror_mode": {
    "name": "ipython",
    "version": 3
   },
   "file_extension": ".py",
   "mimetype": "text/x-python",
   "name": "python",
   "nbconvert_exporter": "python",
   "pygments_lexer": "ipython3",
   "version": "3.12.5"
  }
 },
 "nbformat": 4,
 "nbformat_minor": 2
}
