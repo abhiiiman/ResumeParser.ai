{
 "cells": [
  {
   "cell_type": "code",
   "execution_count": 1,
   "metadata": {},
   "outputs": [],
   "source": [
    "import re"
   ]
  },
  {
   "cell_type": "code",
   "execution_count": 3,
   "metadata": {},
   "outputs": [],
   "source": [
    "with open(r\"../Resume_Evaluation_Data\\Divyanshi_Srivastava_evaluated.md\", 'r', encoding='utf-8') as file:\n",
    "    content = file.read()"
   ]
  },
  {
   "cell_type": "code",
   "execution_count": 5,
   "metadata": {},
   "outputs": [
    {
     "data": {
      "text/plain": [
       "['Match Score: 60',\n",
       " 'Application Status: Shortlisted',\n",
       " '',\n",
       " 'Score Breakdown:',\n",
       " '1. Lack of HR experience - The candidate has no relevant experience in HR, which is a crucial requirement for the job.',\n",
       " '2. Relevant technical skills - The candidate has Excel skills, which is a required technical skill for the job.',\n",
       " '3. Transferable skills - The candidate has leadership, teamwork, and communication skills, which can be useful in an HR role.']"
      ]
     },
     "execution_count": 5,
     "metadata": {},
     "output_type": "execute_result"
    }
   ],
   "source": [
    "content.split(\"\\n\")"
   ]
  },
  {
   "cell_type": "code",
   "execution_count": 7,
   "metadata": {},
   "outputs": [
    {
     "name": "stdout",
     "output_type": "stream",
     "text": [
      "None\n"
     ]
    }
   ],
   "source": [
    "match_score = re.search(r\"\\*\\*Match Score:\\*\\* (\\d+)\", content[0])\n",
    "print(match_score)"
   ]
  },
  {
   "cell_type": "code",
   "execution_count": 8,
   "metadata": {},
   "outputs": [
    {
     "data": {
      "text/plain": [
       "'Match Score: 60\\nApplication Status: Shortlisted\\n\\nScore Breakdown:\\n1. Lack of HR experience - The candidate has no relevant experience in HR, which is a crucial requirement for the job.\\n2. Relevant technical skills - The candidate has Excel skills, which is a required technical skill for the job.\\n3. Transferable skills - The candidate has leadership, teamwork, and communication skills, which can be useful in an HR role.'"
      ]
     },
     "execution_count": 8,
     "metadata": {},
     "output_type": "execute_result"
    }
   ],
   "source": [
    "content"
   ]
  },
  {
   "cell_type": "code",
   "execution_count": 9,
   "metadata": {},
   "outputs": [
    {
     "name": "stdout",
     "output_type": "stream",
     "text": [
      "Match Score: 60\n",
      "Application Status: Shortlisted\n"
     ]
    }
   ],
   "source": [
    "# Regular expressions to extract Match Score and Application Status\n",
    "match_score = re.search(r\"Match Score:\\s*(\\d+)\", content)\n",
    "application_status = re.search(r\"Application Status:\\s*(\\w+)\", content)\n",
    "\n",
    "# Extracted values\n",
    "score = match_score.group(1) if match_score else None\n",
    "status = application_status.group(1) if application_status else None\n",
    "\n",
    "# Output\n",
    "print(f\"Match Score: {score}\")\n",
    "print(f\"Application Status: {status}\")"
   ]
  }
 ],
 "metadata": {
  "kernelspec": {
   "display_name": "venv",
   "language": "python",
   "name": "python3"
  },
  "language_info": {
   "codemirror_mode": {
    "name": "ipython",
    "version": 3
   },
   "file_extension": ".py",
   "mimetype": "text/x-python",
   "name": "python",
   "nbconvert_exporter": "python",
   "pygments_lexer": "ipython3",
   "version": "3.12.5"
  }
 },
 "nbformat": 4,
 "nbformat_minor": 2
}
